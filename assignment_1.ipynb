{
 "cells": [
  {
   "cell_type": "markdown",
   "metadata": {},
   "source": [
    "Establishing a Connection :"
   ]
  },
  {
   "cell_type": "code",
   "execution_count": 1,
   "metadata": {},
   "outputs": [],
   "source": [
    "# Importing MySQL Connector/Python \n",
    "\n",
    "import mysql.connector as connector\n",
    "from mysql.connector import Error"
   ]
  },
  {
   "cell_type": "code",
   "execution_count": 4,
   "metadata": {},
   "outputs": [
    {
     "name": "stdout",
     "output_type": "stream",
     "text": [
      "Connection between MySQL and Python is established.\n",
      "\n"
     ]
    }
   ],
   "source": [
    "# Establishing connection between Python and MySQL database via connector API\n",
    "\n",
    "try:\n",
    "    connection=connector.connect(user=\"root\",password=\"\")\n",
    "except Error as er:\n",
    "    print(er.msg)\n",
    "\n",
    "print(\"Connection between MySQL and Python is established.\\n\")"
   ]
  },
  {
   "cell_type": "markdown",
   "metadata": {},
   "source": [
    "Creating a Cursor :"
   ]
  },
  {
   "cell_type": "code",
   "execution_count": 5,
   "metadata": {},
   "outputs": [
    {
     "name": "stdout",
     "output_type": "stream",
     "text": [
      "Cursor is created to communicate with the MySQL using Python.\n"
     ]
    }
   ],
   "source": [
    "# Creating cursor object to communicate with entire MySQL database\n",
    "\n",
    "cursor = connection.cursor()\n",
    "print(\"Cursor is created to communicate with the MySQL using Python.\")"
   ]
  },
  {
   "cell_type": "markdown",
   "metadata": {},
   "source": [
    "Setting the Database for use :"
   ]
  },
  {
   "cell_type": "code",
   "execution_count": 6,
   "metadata": {},
   "outputs": [
    {
     "name": "stdout",
     "output_type": "stream",
     "text": [
      "The database SchoolDB is set for use.\n"
     ]
    }
   ],
   "source": [
    "cursor.execute(\"USE SchoolDB;\")\n",
    "connection.database\n",
    "print(\"The database SchoolDB is set for use.\")"
   ]
  },
  {
   "cell_type": "code",
   "execution_count": 7,
   "metadata": {},
   "outputs": [
    {
     "name": "stdout",
     "output_type": "stream",
     "text": [
      "('Field', 'Type', 'Null', 'Key', 'Default', 'Extra')\n",
      "('Roll_no', 'int', 'NO', 'PRI', None, 'auto_increment')\n",
      "('name', 'varchar(255)', 'NO', '', None, '')\n",
      "('phone', 'bigint', 'NO', '', None, '')\n",
      "('marks', 'int', 'NO', '', None, '')\n",
      "('favourite_subjects', 'varchar(255)', 'YES', '', None, '')\n"
     ]
    }
   ],
   "source": [
    "# Query to show the columns from the Student table\n",
    "\n",
    "show_columns_query = \"SHOW COLUMNS FROM Student;\" \n",
    "\n",
    "cursor.execute(show_columns_query)\n",
    "\n",
    "results=cursor.fetchall()\n",
    "\n",
    "columns=cursor.column_names\n",
    "\n",
    "print(columns)\n",
    "for result in results:\n",
    "    print(result)"
   ]
  },
  {
   "cell_type": "code",
   "execution_count": 8,
   "metadata": {},
   "outputs": [
    {
     "name": "stdout",
     "output_type": "stream",
     "text": [
      "('Roll_no', 'name', 'phone', 'marks', 'favourite_subjects')\n",
      "(1, 'Rohan Verma', 8764568324, 98, 'Maths')\n",
      "(2, 'Aarav Kapoor', 9875389045, 85, 'Science')\n",
      "(3, 'Ananya Sharma', 9876543222, 92, 'English')\n",
      "(4, 'Ishita Verma', 9876543210, 72, 'Hindi')\n",
      "(5, 'Rajat Singhania', 8765432109, 39, 'History')\n",
      "(6, 'Nisha Khanna', 7654321098, 56, 'English')\n",
      "(7, 'Siddharth Reddy', 6543210987, 85, 'Maths')\n",
      "(8, 'Priya Desai', 5432109876, 96, 'Physical Education')\n",
      "(9, 'Vikram Yadav', 4321098765, 62, 'Geography')\n",
      "(10, 'Meera Joshi', 3210987654, 59, 'Biology')\n",
      "(11, 'Rohan Malhotra', 2109876543, 74, 'English')\n",
      "(12, 'Preeti Chatterjee', 1098765432, 89, 'Geography')\n",
      "(13, 'Aditya Rajput', 9870123456, 44, 'Hindi')\n",
      "(14, 'Kavya Kapoor', 8901234567, 52, 'Physical Education')\n",
      "(15, 'Varun Mehra', 7890123456, 49, 'History')\n",
      "(16, 'Jaya Nair', 6789012345, 60, 'Biology')\n",
      "(17, 'Dev Khurana', 5678901234, 81, 'Hindi')\n",
      "(18, 'Shruti Sharma', 4567890123, 53, 'Physical Education')\n",
      "(19, 'Aniket Kapoor', 3456789012, 63, 'Science')\n",
      "(20, 'Swara Banerjee', 2345678901, 58, 'Geography')\n",
      "(21, 'Arnav Singh', 1234567890, 93, 'Maths')\n",
      "(22, 'Riya Bhatia', 8765432101, 83, 'Maths')\n",
      "(23, 'Pranav Deshmukh', 7654321090, 99, 'Science')\n",
      "(24, 'Aisha Kumar', 6543210980, 59, 'Science')\n",
      "(25, 'Karthik Rana', 5432109870, 69, 'Hindi')\n"
     ]
    }
   ],
   "source": [
    "# Query to see all the data in the Student table\n",
    "\n",
    "show_table_data = \"SELECT * FROM Student;\" \n",
    "\n",
    "cursor.execute(show_table_data)\n",
    "\n",
    "results=cursor.fetchall()\n",
    "\n",
    "columns=cursor.column_names\n",
    "\n",
    "print(columns)\n",
    "for result in results:\n",
    "    print(result)"
   ]
  },
  {
   "cell_type": "code",
   "execution_count": 9,
   "metadata": {},
   "outputs": [
    {
     "name": "stdout",
     "output_type": "stream",
     "text": [
      "('Trigger', 'Event', 'Table', 'Statement', 'Timing', 'Created', 'sql_mode', 'Definer', 'character_set_client', 'collation_connection', 'Database Collation')\n",
      "('prevent_drop_Student', 'DELETE', 'Student', \"BEGIN\\n    SIGNAL SQLSTATE '45000' SET MESSAGE_TEXT = 'Cannot Drop Student Table';\\nEND\", 'BEFORE', datetime.datetime(2024, 2, 1, 19, 27, 36, 700000), {'NO_ZERO_IN_DATE', 'ONLY_FULL_GROUP_BY', 'ERROR_FOR_DIVISION_BY_ZERO', 'NO_ENGINE_SUBSTITUTION', 'STRICT_TRANS_TABLES', 'NO_ZERO_DATE'}, 'root@localhost', 'utf8mb4', 'utf8mb4_0900_ai_ci', 'utf8mb4_0900_ai_ci')\n"
     ]
    }
   ],
   "source": [
    "# Query to see triggers\n",
    "\n",
    "show_trigger = \"SHOW triggers;\" \n",
    "\n",
    "cursor.execute(show_trigger)\n",
    "\n",
    "results=cursor.fetchall()\n",
    "\n",
    "columns=cursor.column_names\n",
    "\n",
    "print(columns)\n",
    "for result in results:\n",
    "    print(result)"
   ]
  },
  {
   "cell_type": "code",
   "execution_count": 10,
   "metadata": {},
   "outputs": [
    {
     "name": "stdout",
     "output_type": "stream",
     "text": [
      "('average_marks',)\n",
      "(Decimal('70.8000'),)\n"
     ]
    }
   ],
   "source": [
    "# Query to calculate the average marks of students\n",
    "\n",
    "avg_marks = \"SELECT AVG(marks) AS average_marks FROM Student;\" \n",
    "\n",
    "cursor.execute(avg_marks)\n",
    "\n",
    "results=cursor.fetchall()\n",
    "\n",
    "columns=cursor.column_names\n",
    "\n",
    "print(columns)\n",
    "for result in results:\n",
    "    print(result)"
   ]
  },
  {
   "cell_type": "code",
   "execution_count": 11,
   "metadata": {},
   "outputs": [
    {
     "name": "stdout",
     "output_type": "stream",
     "text": [
      "('COUNT(DISTINCT favourite_subjects)',)\n",
      "(8,)\n"
     ]
    }
   ],
   "source": [
    "# Query to calculate the unique number of subjects\n",
    "\n",
    "unique_subjects = \"SELECT COUNT(DISTINCT favourite_subjects) FROM Student;\" \n",
    "\n",
    "cursor.execute(unique_subjects)\n",
    "\n",
    "results=cursor.fetchall()\n",
    "\n",
    "columns=cursor.column_names\n",
    "\n",
    "print(columns)\n",
    "for result in results:\n",
    "    print(result)"
   ]
  },
  {
   "cell_type": "markdown",
   "metadata": {},
   "source": [
    "Closing the Connection between Python and MySQL database :"
   ]
  },
  {
   "cell_type": "code",
   "execution_count": 12,
   "metadata": {},
   "outputs": [
    {
     "name": "stdout",
     "output_type": "stream",
     "text": [
      "The cursor is closed.\n",
      "MySQL connection is closed.\n"
     ]
    }
   ],
   "source": [
    "if connection.is_connected():\n",
    "    cursor.close()\n",
    "    print(\"The cursor is closed.\")\n",
    "    connection.close()\n",
    "    print(\"MySQL connection is closed.\")\n",
    "else:\n",
    "    print(\"Connection is already closed\")"
   ]
  }
 ],
 "metadata": {
  "kernelspec": {
   "display_name": "base",
   "language": "python",
   "name": "python3"
  },
  "language_info": {
   "codemirror_mode": {
    "name": "ipython",
    "version": 3
   },
   "file_extension": ".py",
   "mimetype": "text/x-python",
   "name": "python",
   "nbconvert_exporter": "python",
   "pygments_lexer": "ipython3",
   "version": "3.10.9"
  }
 },
 "nbformat": 4,
 "nbformat_minor": 2
}
